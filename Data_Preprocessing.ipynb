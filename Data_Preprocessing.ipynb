{
 "cells": [
  {
   "cell_type": "markdown",
   "id": "04730acc",
   "metadata": {},
   "source": [
    "## Credits.csv \n",
    "Cast.csv and Crew.csv table are extracted from the credits.csv file"
   ]
  },
  {
   "cell_type": "code",
   "execution_count": 1,
   "id": "cea33dba",
   "metadata": {},
   "outputs": [],
   "source": [
    "import pandas as pd\n",
    "import ast\n",
    "import numpy as np\n",
    "import datetime"
   ]
  },
  {
   "cell_type": "code",
   "execution_count": 2,
   "id": "7d178bc7",
   "metadata": {},
   "outputs": [],
   "source": [
    "credits_df = pd.read_csv('credits.csv')\n",
    "cast_df = credits_df[['cast','id']]"
   ]
  },
  {
   "cell_type": "code",
   "execution_count": 3,
   "id": "c35eed95",
   "metadata": {},
   "outputs": [
    {
     "name": "stderr",
     "output_type": "stream",
     "text": [
      "C:\\Users\\parag\\AppData\\Local\\Temp\\ipykernel_24024\\1702861963.py:2: SettingWithCopyWarning: \n",
      "A value is trying to be set on a copy of a slice from a DataFrame.\n",
      "Try using .loc[row_indexer,col_indexer] = value instead\n",
      "\n",
      "See the caveats in the documentation: https://pandas.pydata.org/pandas-docs/stable/user_guide/indexing.html#returning-a-view-versus-a-copy\n",
      "  cast_df['cast'] = cast_df['cast'].apply(ast.literal_eval)\n"
     ]
    }
   ],
   "source": [
    "# Convert the 'cast' column to list of dictionaries using ast.literal_eval\n",
    "cast_df['cast'] = cast_df['cast'].apply(ast.literal_eval)\n",
    "\n",
    "ids = list(cast_df['id'])\n",
    "dfs = []\n",
    "\n",
    "# Iterate over each movie and assign the corresponding foreign key to the entries\n",
    "for movie_id, entries in zip(ids, cast_df['cast']):\n",
    "    for entry in entries:\n",
    "        entry['movie_id'] = movie_id\n",
    "\n",
    "    # Convert data to DataFrame and append it to the list\n",
    "    df = pd.DataFrame(entries)\n",
    "    dfs.append(df)\n",
    "\n",
    "# Concatenate all DataFrames into a single DataFrame\n",
    "cast_dfs = pd.concat(dfs, ignore_index=True)\n",
    "cast_dfs.to_csv('cast.csv', index = False)"
   ]
  },
  {
   "cell_type": "code",
   "execution_count": 4,
   "id": "c2bd2105",
   "metadata": {},
   "outputs": [],
   "source": [
    "credits_df = pd.read_csv('credits.csv')\n",
    "crew_df = credits_df[['crew','id']]"
   ]
  },
  {
   "cell_type": "code",
   "execution_count": 5,
   "id": "85099586",
   "metadata": {
    "scrolled": true
   },
   "outputs": [
    {
     "name": "stderr",
     "output_type": "stream",
     "text": [
      "C:\\Users\\parag\\AppData\\Local\\Temp\\ipykernel_24024\\2429640143.py:2: SettingWithCopyWarning: \n",
      "A value is trying to be set on a copy of a slice from a DataFrame.\n",
      "Try using .loc[row_indexer,col_indexer] = value instead\n",
      "\n",
      "See the caveats in the documentation: https://pandas.pydata.org/pandas-docs/stable/user_guide/indexing.html#returning-a-view-versus-a-copy\n",
      "  crew_df['crew'] = crew_df['crew'].apply(ast.literal_eval)\n"
     ]
    }
   ],
   "source": [
    "# Convert the 'cast' column to list of dictionaries using ast.literal_eval\n",
    "crew_df['crew'] = crew_df['crew'].apply(ast.literal_eval)\n",
    "\n",
    "ids = list(crew_df['id'])\n",
    "dfs = []\n",
    "\n",
    "# Iterate over each movie and assign the corresponding foreign key to the entries\n",
    "for movie_id, entries in zip(ids, crew_df['crew']):\n",
    "    for entry in entries:\n",
    "        entry['movie_id'] = movie_id\n",
    "\n",
    "    # Convert data to DataFrame and append it to the list\n",
    "    df = pd.DataFrame(entries)\n",
    "    dfs.append(df)\n",
    "\n",
    "# Concatenate all DataFrames into a single DataFrame\n",
    "crew_dfs = pd.concat(dfs, ignore_index=True)\n",
    "crew_dfs.to_csv('crew.csv', index = False)"
   ]
  },
  {
   "cell_type": "markdown",
   "id": "a4ff1903",
   "metadata": {},
   "source": [
    "## Movies_Metadata.csv"
   ]
  },
  {
   "cell_type": "markdown",
   "id": "4d9763a9",
   "metadata": {},
   "source": [
    "### Genre Table"
   ]
  },
  {
   "cell_type": "code",
   "execution_count": 6,
   "id": "490877a9",
   "metadata": {},
   "outputs": [],
   "source": [
    "movies_metadata = pd.read_csv(\"movies_metadata.csv\", low_memory=False)"
   ]
  },
  {
   "cell_type": "code",
   "execution_count": null,
   "id": "7458e002",
   "metadata": {},
   "outputs": [],
   "source": [
    "movies_metadata = pd.read_csv(\"movies_metadata.csv\", low_memory=False)\n",
    "movies_metadata['genres'] = movies_metadata['genres'].apply(ast.literal_eval)\n",
    "dfs = []\n",
    "for movie_id, entries in zip(movies_metadata['id'], movies_metadata['genres']):\n",
    "    for entry in entries:\n",
    "        entry['movie_id'] = movie_id\n",
    "    df = pd.DataFrame(entries)\n",
    "    dfs.append(df)\n",
    "genres_dfs = pd.concat(dfs, ignore_index=True)\n",
    "genres_dfs.to_csv('movie_genres.csv', index=False)"
   ]
  },
  {
   "cell_type": "markdown",
   "id": "3fdc4b8c",
   "metadata": {},
   "source": [
    "### Production Companies Table"
   ]
  },
  {
   "cell_type": "code",
   "execution_count": null,
   "id": "efe64125",
   "metadata": {},
   "outputs": [],
   "source": [
    "movies_metadata['production_companies'].fillna('[]', inplace=True)\n",
    "movies_metadata['production_companies'] = movies_metadata['production_companies'].apply(ast.literal_eval)\n",
    "dfs = []\n",
    "for movie_id, entries in zip(movies_metadata['id'], movies_metadata['production_companies']):\n",
    "    if isinstance(entries, list):\n",
    "        for entry in entries:\n",
    "            entry['movie_id'] = movie_id\n",
    "        df = pd.DataFrame(entries)\n",
    "        dfs.append(df)\n",
    "\n",
    "prod_companies_dfs = pd.concat(dfs, ignore_index=True)\n",
    "prod_companies_dfs.to_csv('Production_companies.csv', index=False)"
   ]
  },
  {
   "cell_type": "markdown",
   "id": "3fae0979",
   "metadata": {},
   "source": [
    "### Spoken Languages Table"
   ]
  },
  {
   "cell_type": "code",
   "execution_count": null,
   "id": "8fa0948c",
   "metadata": {},
   "outputs": [],
   "source": [
    "movies_metadata['spoken_languages'].fillna('[]', inplace=True)\n",
    "movies_metadata['spoken_languages'] = movies_metadata['spoken_languages'].apply(ast.literal_eval)\n",
    "\n",
    "spoken_languages_dfs = []\n",
    "\n",
    "for movie_id, loop in zip(movies_metadata['id'], movies_metadata['spoken_languages']):\n",
    "    # Iterate over each spoken language entry in the list\n",
    "    for entry in loop:\n",
    "        # Add 'movie_id' key to each entry\n",
    "        entry['movie_id'] = movie_id\n",
    "    # Convert the list of dictionaries to a DataFrame\n",
    "    spoken_languages_df = pd.DataFrame(loop)\n",
    "    # Append the DataFrame to the list of DataFrames\n",
    "    spoken_languages_dfs.append(spoken_languages_df)\n",
    "\n",
    "spoken_languages_dfs = pd.concat(spoken_languages_dfs, ignore_index=True)\n",
    "spoken_languages_dfs.rename(columns={'name': 'language'}, inplace=True)\n",
    "spoken_languages_dfs.to_csv('spoken_languages.csv', index=False)"
   ]
  },
  {
   "cell_type": "markdown",
   "id": "131b1993",
   "metadata": {},
   "source": [
    "### Collection Table"
   ]
  },
  {
   "cell_type": "code",
   "execution_count": null,
   "id": "7b6b976d",
   "metadata": {},
   "outputs": [],
   "source": [
    "movies_metadata = pd.read_csv(\"movies_metadata.csv\", low_memory=False)\n",
    "movies_metadata['belongs_to_collection'].fillna('[{}]', inplace=True)\n",
    "movies_metadata['belongs_to_collection'] = movies_metadata['belongs_to_collection'].apply(ast.literal_eval)\n",
    "\n",
    "belongs_to_collection_dfs = []\n",
    "\n",
    "# Iterate over each row of the DataFrame\n",
    "for movie_id, collection in zip(movies_metadata['id'], movies_metadata['belongs_to_collection']):\n",
    "    # Check if the collection is a dictionary\n",
    "    if isinstance(collection, dict):\n",
    "        # Add 'movie_id' key to the collection dictionary\n",
    "        collection['movie_id'] = movie_id\n",
    "        # Append the modified collection dictionary to the list\n",
    "        belongs_to_collection_dfs.append(collection)\n",
    "    elif isinstance(collection, list):\n",
    "        # Iterate over each collection dictionary in the list\n",
    "        for collection_dict in collection:\n",
    "            # Add 'movie_id' key to the collection dictionary\n",
    "            collection_dict['movie_id'] = movie_id\n",
    "            # Append the modified collection dictionary to the list\n",
    "            belongs_to_collection_dfs.append(collection_dict)\n",
    "\n",
    "belongs_to_collection_df = pd.DataFrame(belongs_to_collection_dfs)\n",
    "belongs_to_collection_df.dropna(subset=['name', 'poster_path', 'backdrop_path'], how='all', inplace=True)\n",
    "belongs_to_collection_df['id'] = belongs_to_collection_df['id'].astype(int)\n",
    "belongs_to_collection_df.to_csv('belongs_to_collection.csv', index=False)"
   ]
  },
  {
   "cell_type": "markdown",
   "id": "620e1181",
   "metadata": {},
   "source": [
    "#### View Tables"
   ]
  },
  {
   "cell_type": "code",
   "execution_count": null,
   "id": "88cb7601",
   "metadata": {},
   "outputs": [],
   "source": [
    "cast_dfs.head(3)"
   ]
  },
  {
   "cell_type": "code",
   "execution_count": null,
   "id": "4d254762",
   "metadata": {},
   "outputs": [],
   "source": [
    "crew_dfs.head(3)"
   ]
  },
  {
   "cell_type": "code",
   "execution_count": null,
   "id": "6f3096a1",
   "metadata": {},
   "outputs": [],
   "source": [
    "genres_dfs.head(3)"
   ]
  },
  {
   "cell_type": "code",
   "execution_count": null,
   "id": "1b259f1a",
   "metadata": {},
   "outputs": [],
   "source": [
    "prod_companies_dfs.head(3)"
   ]
  },
  {
   "cell_type": "code",
   "execution_count": null,
   "id": "a057d729",
   "metadata": {},
   "outputs": [],
   "source": [
    "spoken_languages_dfs.head(3)"
   ]
  },
  {
   "cell_type": "code",
   "execution_count": null,
   "id": "8d2c8d47",
   "metadata": {},
   "outputs": [],
   "source": [
    "belongs_to_collection_df.head(3)"
   ]
  }
 ],
 "metadata": {
  "kernelspec": {
   "display_name": "Python 3 (ipykernel)",
   "language": "python",
   "name": "python3"
  },
  "language_info": {
   "codemirror_mode": {
    "name": "ipython",
    "version": 3
   },
   "file_extension": ".py",
   "mimetype": "text/x-python",
   "name": "python",
   "nbconvert_exporter": "python",
   "pygments_lexer": "ipython3",
   "version": "3.11.5"
  }
 },
 "nbformat": 4,
 "nbformat_minor": 5
}
