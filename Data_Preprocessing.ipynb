{
 "cells": [
  {
   "cell_type": "markdown",
   "id": "04730acc",
   "metadata": {},
   "source": [
    "## Credits.csv \n",
    "Cast.csv and Crew.csv table are extracted from the credits.csv file"
   ]
  },
  {
   "cell_type": "code",
   "execution_count": 1,
   "id": "cea33dba",
   "metadata": {},
   "outputs": [],
   "source": [
    "import pandas as pd\n",
    "import ast\n",
    "import numpy as np\n",
    "import datetime"
   ]
  },
  {
   "cell_type": "code",
   "execution_count": 2,
   "id": "7d178bc7",
   "metadata": {},
   "outputs": [],
   "source": [
    "credits_df = pd.read_csv('credits.csv')\n",
    "cast_df = credits_df[['cast','id']]"
   ]
  },
  {
   "cell_type": "code",
   "execution_count": 3,
   "id": "c35eed95",
   "metadata": {
    "collapsed": true
   },
   "outputs": [
    {
     "name": "stderr",
     "output_type": "stream",
     "text": [
      "C:\\Users\\parag\\AppData\\Local\\Temp\\ipykernel_19148\\1702861963.py:2: SettingWithCopyWarning: \n",
      "A value is trying to be set on a copy of a slice from a DataFrame.\n",
      "Try using .loc[row_indexer,col_indexer] = value instead\n",
      "\n",
      "See the caveats in the documentation: https://pandas.pydata.org/pandas-docs/stable/user_guide/indexing.html#returning-a-view-versus-a-copy\n",
      "  cast_df['cast'] = cast_df['cast'].apply(ast.literal_eval)\n"
     ]
    }
   ],
   "source": [
    "# Convert the 'cast' column to list of dictionaries using ast.literal_eval\n",
    "cast_df['cast'] = cast_df['cast'].apply(ast.literal_eval)\n",
    "\n",
    "ids = list(cast_df['id'])\n",
    "dfs = []\n",
    "\n",
    "# Iterate over each movie and assign the corresponding foreign key to the entries\n",
    "for movie_id, entries in zip(ids, cast_df['cast']):\n",
    "    for entry in entries:\n",
    "        entry['movie_id'] = movie_id\n",
    "\n",
    "    # Convert data to DataFrame and append it to the list\n",
    "    df = pd.DataFrame(entries)\n",
    "    dfs.append(df)\n",
    "\n",
    "# Concatenate all DataFrames into a single DataFrame\n",
    "cast_dfs = pd.concat(dfs, ignore_index=True)\n",
    "cast_dfs.to_csv('cast.csv', index = False)"
   ]
  },
  {
   "cell_type": "code",
   "execution_count": 4,
   "id": "c2bd2105",
   "metadata": {},
   "outputs": [],
   "source": [
    "credits_df = pd.read_csv('credits.csv')\n",
    "crew_df = credits_df[['crew','id']]"
   ]
  },
  {
   "cell_type": "code",
   "execution_count": 5,
   "id": "85099586",
   "metadata": {},
   "outputs": [
    {
     "name": "stderr",
     "output_type": "stream",
     "text": [
      "C:\\Users\\parag\\AppData\\Local\\Temp\\ipykernel_19148\\2429640143.py:2: SettingWithCopyWarning: \n",
      "A value is trying to be set on a copy of a slice from a DataFrame.\n",
      "Try using .loc[row_indexer,col_indexer] = value instead\n",
      "\n",
      "See the caveats in the documentation: https://pandas.pydata.org/pandas-docs/stable/user_guide/indexing.html#returning-a-view-versus-a-copy\n",
      "  crew_df['crew'] = crew_df['crew'].apply(ast.literal_eval)\n"
     ]
    }
   ],
   "source": [
    "# Convert the 'cast' column to list of dictionaries using ast.literal_eval\n",
    "crew_df['crew'] = crew_df['crew'].apply(ast.literal_eval)\n",
    "\n",
    "ids = list(crew_df['id'])\n",
    "dfs = []\n",
    "\n",
    "# Iterate over each movie and assign the corresponding foreign key to the entries\n",
    "for movie_id, entries in zip(ids, crew_df['crew']):\n",
    "    for entry in entries:\n",
    "        entry['movie_id'] = movie_id\n",
    "\n",
    "    # Convert data to DataFrame and append it to the list\n",
    "    df = pd.DataFrame(entries)\n",
    "    dfs.append(df)\n",
    "\n",
    "# Concatenate all DataFrames into a single DataFrame\n",
    "crew_dfs = pd.concat(dfs, ignore_index=True)\n",
    "crew_dfs.to_csv('crew.csv', index = False)"
   ]
  },
  {
   "cell_type": "code",
   "execution_count": null,
   "id": "490877a9",
   "metadata": {},
   "outputs": [],
   "source": []
  }
 ],
 "metadata": {
  "kernelspec": {
   "display_name": "Python 3 (ipykernel)",
   "language": "python",
   "name": "python3"
  },
  "language_info": {
   "codemirror_mode": {
    "name": "ipython",
    "version": 3
   },
   "file_extension": ".py",
   "mimetype": "text/x-python",
   "name": "python",
   "nbconvert_exporter": "python",
   "pygments_lexer": "ipython3",
   "version": "3.11.5"
  }
 },
 "nbformat": 4,
 "nbformat_minor": 5
}
